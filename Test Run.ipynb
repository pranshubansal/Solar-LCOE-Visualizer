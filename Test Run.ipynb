{
 "cells": [
  {
   "cell_type": "code",
   "execution_count": 2,
   "metadata": {},
   "outputs": [],
   "source": [
    "import pandas as pd\n",
    "import numpy as np\n",
    "import sys, os\n",
    "from IPython.display import display\n",
    "import matplotlib.pyplot as plt\n",
    "import pvlib"
   ]
  },
  {
   "cell_type": "code",
   "execution_count": 3,
   "metadata": {},
   "outputs": [],
   "source": [
    "# Declare all variables as strings. Spaces must be replaced with '+', i.e., change 'John Smith' to 'John+Smith'.\n",
    "# Define the lat, long of the location and the year\n",
    "lat, lon, year = 33.2164, -97.1292, 2010\n",
    "# You must request an NSRDB api key from the link above\n",
    "api_key = 'CpLeHgGtuZ7q2InYhqann9FdVhHvzwspvKHbHn1c'\n",
    "# Set the attributes to extract (e.g., dhi, ghi, etc.), separated by commas.\n",
    "attributes = 'ghi,dhi,dni,wind_speed,air_temperature,solar_zenith_angle'\n",
    "# Choose year of data\n",
    "year = '2010'\n",
    "# Set leap year to true or false. True will return leap day data if present, false will not.\n",
    "leap_year = 'false'\n",
    "# Set time interval in minutes, i.e., '30' is half hour intervals. Valid intervals are 30 & 60.\n",
    "interval = '30'\n",
    "# Specify Coordinated Universal Time (UTC), 'true' will use UTC, 'false' will use the local time zone of the data.\n",
    "# NOTE: In order to use the NSRDB data in SAM, you must specify UTC as 'false'. SAM requires the data to be in the\n",
    "# local time zone.\n",
    "utc = 'false'\n",
    "# Your full name, use '+' instead of spaces.\n",
    "your_name = 'Pranshu+Bansal'\n",
    "# Your reason for using the NSRDB.\n",
    "reason_for_use = 'Test+run'\n",
    "# Your affiliation\n",
    "your_affiliation = 'UC+Berkeley'\n",
    "# Your email address\n",
    "your_email = 'pranshu@berkeley.edu'\n",
    "# Please join our mailing list so we can keep you up-to-date on new developments.\n",
    "mailing_list = 'true'\n",
    "\n",
    "# Declare url string\n",
    "url = 'http://developer.nrel.gov/api/solar/nsrdb_psm3_download.csv?wkt=POINT({lon}%20{lat})&names={year}&leap_day={leap}&interval={interval}&utc={utc}&full_name={name}&email={email}&affiliation={affiliation}&mailing_list={mailing_list}&reason={reason}&api_key={api}&attributes={attr}'.format(year=year, lat=lat, lon=lon, leap=leap_year, interval=interval, utc=utc, name=your_name, email=your_email, mailing_list=mailing_list, affiliation=your_affiliation, reason=reason_for_use, api=api_key, attr=attributes)\n",
    "# Return just the first 2 lines to get metadata:\n",
    "info = pd.read_csv(url, nrows=1)\n",
    "# See metadata for specified properties, e.g., timezone and elevation\n",
    "timezone, elevation = info['Local Time Zone'], info['Elevation']\n",
    "\n",
    "\n"
   ]
  },
  {
   "cell_type": "code",
   "execution_count": 4,
   "metadata": {},
   "outputs": [
    {
     "data": {
      "text/html": [
       "<div>\n",
       "<style scoped>\n",
       "    .dataframe tbody tr th:only-of-type {\n",
       "        vertical-align: middle;\n",
       "    }\n",
       "\n",
       "    .dataframe tbody tr th {\n",
       "        vertical-align: top;\n",
       "    }\n",
       "\n",
       "    .dataframe thead th {\n",
       "        text-align: right;\n",
       "    }\n",
       "</style>\n",
       "<table border=\"1\" class=\"dataframe\">\n",
       "  <thead>\n",
       "    <tr style=\"text-align: right;\">\n",
       "      <th></th>\n",
       "      <th>Source</th>\n",
       "      <th>Location ID</th>\n",
       "      <th>City</th>\n",
       "      <th>State</th>\n",
       "      <th>Country</th>\n",
       "      <th>Latitude</th>\n",
       "      <th>Longitude</th>\n",
       "      <th>Time Zone</th>\n",
       "      <th>Elevation</th>\n",
       "      <th>Local Time Zone</th>\n",
       "      <th>...</th>\n",
       "      <th>Cloud Type 11</th>\n",
       "      <th>Cloud Type 12</th>\n",
       "      <th>Fill Flag 0</th>\n",
       "      <th>Fill Flag 1</th>\n",
       "      <th>Fill Flag 2</th>\n",
       "      <th>Fill Flag 3</th>\n",
       "      <th>Fill Flag 4</th>\n",
       "      <th>Fill Flag 5</th>\n",
       "      <th>Surface Albedo Units</th>\n",
       "      <th>Version</th>\n",
       "    </tr>\n",
       "  </thead>\n",
       "  <tbody>\n",
       "    <tr>\n",
       "      <th>0</th>\n",
       "      <td>NSRDB</td>\n",
       "      <td>693763</td>\n",
       "      <td>-</td>\n",
       "      <td>-</td>\n",
       "      <td>-</td>\n",
       "      <td>33.21</td>\n",
       "      <td>-97.14</td>\n",
       "      <td>-6</td>\n",
       "      <td>203</td>\n",
       "      <td>-6</td>\n",
       "      <td>...</td>\n",
       "      <td>Dust</td>\n",
       "      <td>Smoke</td>\n",
       "      <td>NaN</td>\n",
       "      <td>Missing Image</td>\n",
       "      <td>Low Irradiance</td>\n",
       "      <td>Exceeds Clearsky</td>\n",
       "      <td>Missing CLoud Properties</td>\n",
       "      <td>Rayleigh Violation</td>\n",
       "      <td>NaN</td>\n",
       "      <td>v3.0.1</td>\n",
       "    </tr>\n",
       "  </tbody>\n",
       "</table>\n",
       "<p>1 rows × 46 columns</p>\n",
       "</div>"
      ],
      "text/plain": [
       "  Source  Location ID City State Country  Latitude  Longitude  Time Zone  \\\n",
       "0  NSRDB       693763    -     -       -     33.21     -97.14         -6   \n",
       "\n",
       "   Elevation  Local Time Zone  ... Cloud Type 11 Cloud Type 12 Fill Flag 0  \\\n",
       "0        203               -6  ...          Dust         Smoke         NaN   \n",
       "\n",
       "     Fill Flag 1     Fill Flag 2       Fill Flag 3               Fill Flag 4  \\\n",
       "0  Missing Image  Low Irradiance  Exceeds Clearsky  Missing CLoud Properties   \n",
       "\n",
       "          Fill Flag 5 Surface Albedo Units Version  \n",
       "0  Rayleigh Violation                  NaN  v3.0.1  \n",
       "\n",
       "[1 rows x 46 columns]"
      ]
     },
     "execution_count": 4,
     "metadata": {},
     "output_type": "execute_result"
    }
   ],
   "source": [
    "# View metadata\n",
    "info"
   ]
  },
  {
   "cell_type": "code",
   "execution_count": 5,
   "metadata": {},
   "outputs": [
    {
     "data": {
      "text/html": [
       "<div>\n",
       "<style scoped>\n",
       "    .dataframe tbody tr th:only-of-type {\n",
       "        vertical-align: middle;\n",
       "    }\n",
       "\n",
       "    .dataframe tbody tr th {\n",
       "        vertical-align: top;\n",
       "    }\n",
       "\n",
       "    .dataframe thead th {\n",
       "        text-align: right;\n",
       "    }\n",
       "</style>\n",
       "<table border=\"1\" class=\"dataframe\">\n",
       "  <thead>\n",
       "    <tr style=\"text-align: right;\">\n",
       "      <th></th>\n",
       "      <th>Year</th>\n",
       "      <th>Month</th>\n",
       "      <th>Day</th>\n",
       "      <th>Hour</th>\n",
       "      <th>Minute</th>\n",
       "      <th>GHI</th>\n",
       "      <th>DHI</th>\n",
       "      <th>DNI</th>\n",
       "      <th>Wind Speed</th>\n",
       "      <th>Temperature</th>\n",
       "      <th>Solar Zenith Angle</th>\n",
       "    </tr>\n",
       "  </thead>\n",
       "  <tbody>\n",
       "    <tr>\n",
       "      <th>2010-01-01 00:00:00</th>\n",
       "      <td>2010</td>\n",
       "      <td>1</td>\n",
       "      <td>1</td>\n",
       "      <td>0</td>\n",
       "      <td>0</td>\n",
       "      <td>0</td>\n",
       "      <td>0</td>\n",
       "      <td>0</td>\n",
       "      <td>2.9</td>\n",
       "      <td>-2</td>\n",
       "      <td>167.60</td>\n",
       "    </tr>\n",
       "    <tr>\n",
       "      <th>2010-01-01 00:30:00</th>\n",
       "      <td>2010</td>\n",
       "      <td>1</td>\n",
       "      <td>1</td>\n",
       "      <td>0</td>\n",
       "      <td>30</td>\n",
       "      <td>0</td>\n",
       "      <td>0</td>\n",
       "      <td>0</td>\n",
       "      <td>2.7</td>\n",
       "      <td>-2</td>\n",
       "      <td>169.78</td>\n",
       "    </tr>\n",
       "    <tr>\n",
       "      <th>2010-01-01 01:00:00</th>\n",
       "      <td>2010</td>\n",
       "      <td>1</td>\n",
       "      <td>1</td>\n",
       "      <td>1</td>\n",
       "      <td>0</td>\n",
       "      <td>0</td>\n",
       "      <td>0</td>\n",
       "      <td>0</td>\n",
       "      <td>2.5</td>\n",
       "      <td>-3</td>\n",
       "      <td>168.08</td>\n",
       "    </tr>\n",
       "    <tr>\n",
       "      <th>2010-01-01 01:30:00</th>\n",
       "      <td>2010</td>\n",
       "      <td>1</td>\n",
       "      <td>1</td>\n",
       "      <td>1</td>\n",
       "      <td>30</td>\n",
       "      <td>0</td>\n",
       "      <td>0</td>\n",
       "      <td>0</td>\n",
       "      <td>2.4</td>\n",
       "      <td>-3</td>\n",
       "      <td>163.67</td>\n",
       "    </tr>\n",
       "    <tr>\n",
       "      <th>2010-01-01 02:00:00</th>\n",
       "      <td>2010</td>\n",
       "      <td>1</td>\n",
       "      <td>1</td>\n",
       "      <td>2</td>\n",
       "      <td>0</td>\n",
       "      <td>0</td>\n",
       "      <td>0</td>\n",
       "      <td>0</td>\n",
       "      <td>2.4</td>\n",
       "      <td>-4</td>\n",
       "      <td>158.14</td>\n",
       "    </tr>\n",
       "  </tbody>\n",
       "</table>\n",
       "</div>"
      ],
      "text/plain": [
       "                     Year  Month  Day  Hour  Minute  GHI  DHI  DNI  \\\n",
       "2010-01-01 00:00:00  2010      1    1     0       0    0    0    0   \n",
       "2010-01-01 00:30:00  2010      1    1     0      30    0    0    0   \n",
       "2010-01-01 01:00:00  2010      1    1     1       0    0    0    0   \n",
       "2010-01-01 01:30:00  2010      1    1     1      30    0    0    0   \n",
       "2010-01-01 02:00:00  2010      1    1     2       0    0    0    0   \n",
       "\n",
       "                     Wind Speed  Temperature  Solar Zenith Angle  \n",
       "2010-01-01 00:00:00         2.9           -2              167.60  \n",
       "2010-01-01 00:30:00         2.7           -2              169.78  \n",
       "2010-01-01 01:00:00         2.5           -3              168.08  \n",
       "2010-01-01 01:30:00         2.4           -3              163.67  \n",
       "2010-01-01 02:00:00         2.4           -4              158.14  "
      ]
     },
     "execution_count": 5,
     "metadata": {},
     "output_type": "execute_result"
    }
   ],
   "source": [
    "# Return all but first 2 lines of csv to get data:\n",
    "df = pd.read_csv('http://developer.nrel.gov/api/solar/nsrdb_psm3_download.csv?wkt=POINT({lon}%20{lat})&names={year}&leap_day={leap}&interval={interval}&utc={utc}&full_name={name}&email={email}&affiliation={affiliation}&mailing_list={mailing_list}&reason={reason}&api_key={api}&attributes={attr}'.format(year=year, lat=lat, lon=lon, leap=leap_year, interval=interval, utc=utc, name=your_name, email=your_email, mailing_list=mailing_list, affiliation=your_affiliation, reason=reason_for_use, api=api_key, attr=attributes), skiprows=2)\n",
    "\n",
    "# Set the time index in the pandas dataframe:\n",
    "df = df.set_index(pd.date_range('1/1/{yr}'.format(yr=year), freq=interval+'Min', periods=525600/int(interval)))\n",
    "df.head()"
   ]
  },
  {
   "cell_type": "code",
   "execution_count": 6,
   "metadata": {},
   "outputs": [
    {
     "name": "stdout",
     "output_type": "stream",
     "text": [
      "shape: (17520, 11)\n",
      "['Year' 'Month' 'Day' 'Hour' 'Minute' 'GHI' 'DHI' 'DNI' 'Wind Speed'\n",
      " 'Temperature' 'Solar Zenith Angle']\n"
     ]
    }
   ],
   "source": [
    "# take a look\n",
    "print('shape:',df.shape)\n",
    "\n",
    "# Print column names\n",
    "print(df.columns.values)"
   ]
  },
  {
   "cell_type": "code",
   "execution_count": 7,
   "metadata": {},
   "outputs": [],
   "source": [
    "# DOESN'T WORK\n",
    "\n",
    "\n",
    "# #import additional module for SAM simulation:\n",
    "# import site\n",
    "# # Use site.addsitedir() to set the path to the SAM SDK API. Set path to the python directory.\n",
    "# site.addsitedir('./sam-sdk-2017-9-5-r4/languages/python/')\n",
    "# import sscapi\n",
    "# ssc = sscapi.PySSC()\n",
    "\n",
    "# # Resource inputs for SAM model:\n",
    "# wfd = ssc.data_create()\n",
    "# ssc.data_set_number(wfd, 'lat', lat)\n",
    "# ssc.data_set_number(wfd, 'lon', lon)\n",
    "# ssc.data_set_number(wfd, 'tz', timezone)\n",
    "# ssc.data_set_number(wfd, 'elev', elevation)\n",
    "# ssc.data_set_array(wfd, 'year', df.index.year)\n",
    "# ssc.data_set_array(wfd, 'month', df.index.month)\n",
    "# ssc.data_set_array(wfd, 'day', df.index.day)\n",
    "# ssc.data_set_array(wfd, 'hour', df.index.hour)\n",
    "# ssc.data_set_array(wfd, 'minute', df.index.minute)\n",
    "# ssc.data_set_array(wfd, 'dn', df['DNI'])\n",
    "# ssc.data_set_array(wfd, 'df', df['DHI'])\n",
    "# ssc.data_set_array(wfd, 'wspd', df['Wind Speed'])\n",
    "# ssc.data_set_array(wfd, 'tdry', df['Temperature'])\n",
    "\n",
    "# # Create SAM compliant object  \n",
    "# dat = ssc.data_create()\n",
    "# ssc.data_set_table(dat, 'solar_resource_data', wfd)\n",
    "# ssc.data_free(wfd)\n",
    "\n",
    "# # Specify the system Configuration\n",
    "# # Set system capacity in MW\n",
    "# system_capacity = 4\n",
    "# ssc.data_set_number(dat, 'system_capacity', system_capacity)\n",
    "# # Set DC/AC ratio (or power ratio). See https://sam.nrel.gov/sites/default/files/content/virtual_conf_july_2013/07-sam-virtual-conference-2013-woodcock.pdf\n",
    "# ssc.data_set_number(dat, 'dc_ac_ratio', 1.1)\n",
    "# # Set tilt of system in degrees\n",
    "# ssc.data_set_number(dat, 'tilt', 25)\n",
    "# # Set azimuth angle (in degrees) from north (0 degrees)\n",
    "# ssc.data_set_number(dat, 'azimuth', 180)\n",
    "# # Set the inverter efficency\n",
    "# ssc.data_set_number(dat, 'inv_eff', 96)\n",
    "# # Set the system losses, in percent\n",
    "# ssc.data_set_number(dat, 'losses', 14.0757)\n",
    "# # Specify fixed tilt system (0=Fixed, 1=Fixed Roof, 2=1 Axis Tracker, 3=Backtracted, 4=2 Axis Tracker)\n",
    "# ssc.data_set_number(dat, 'array_type', 0)\n",
    "# # Set ground coverage ratio\n",
    "# ssc.data_set_number(dat, 'gcr', 0.4)\n",
    "# # Set constant loss adjustment\n",
    "# ssc.data_set_number(dat, 'adjust:constant', 0)\n",
    "\n",
    "# # execute and put generation results back into dataframe\n",
    "# mod = ssc.module_create('pvwattsv5')\n",
    "# ssc.module_exec(mod, dat)\n",
    "# df['generation'] = np.array(ssc.data_get_array(dat, 'gen'))\n",
    "\n",
    "# # free the memory\n",
    "# ssc.data_free(dat)\n",
    "# ssc.module_free(mod)"
   ]
  },
  {
   "cell_type": "code",
   "execution_count": 8,
   "metadata": {},
   "outputs": [
    {
     "name": "stderr",
     "output_type": "stream",
     "text": [
      "/anaconda3/lib/python3.6/site-packages/ipykernel_launcher.py:1: FutureWarning: Creating a DatetimeIndex by passing range endpoints is deprecated.  Use `pandas.date_range` instead.\n",
      "  \"\"\"Entry point for launching an IPython kernel.\n"
     ]
    }
   ],
   "source": [
    "naive_times = pd.DatetimeIndex(start='2014', end='2015', freq='1h')\n",
    "coordinates = [(25.17, -111.74, 'Comondú',50.0, 'Etc/GMT+7'),\n",
    "               (29.73, -111.06, 'Carbó', 594.0, 'Etc/GMT+7'),\n",
    "               (20.53, -103.62, 'Tala', 1484.0, 'Etc/GMT+6'),\n",
    "               (26.05, -103.26, 'Francisco', 1098.0, 'Etc/GMT+6'),\n",
    "               (23.05, -100.26, 'Guadalcázar', 1447.0, 'Etc/GMT+6'),\n",
    "               (25.61, -100.22, 'Nuevo Leon', 718.0, 'Etc/GMT+6'),\n",
    "               (19.29, -99.10, 'Lago', 2235.0, 'Etc/GMT+6'),\n",
    "               (18.17, -98.10, 'San', 1186.0, 'Etc/GMT+6'),\n",
    "               (16.45, -92.82, 'Acala', 571.0, 'Etc/GMT+6'),\n",
    "               (20.89, -89.46, 'Acanceh', 16.0, 'Etc/GMT+6')]\n",
    "\n",
    "sandia_modules = pvlib.pvsystem.retrieve_sam('SandiaMod')\n",
    "sapm_inverters = pvlib.pvsystem.retrieve_sam('cecinverter')\n",
    "module = sandia_modules['Canadian_Solar_CS5P_220M___2009_']\n",
    "inverter = sapm_inverters['ABB__MICRO_0_25_I_OUTD_US_208_208V__CEC_2014_']\n",
    "temp_air = 20\n",
    "wind_speed = 0"
   ]
  },
  {
   "cell_type": "code",
   "execution_count": 9,
   "metadata": {},
   "outputs": [],
   "source": [
    "system = {'module': module, 'inverter': inverter,'surface_azimuth': 180}\n",
    "energies = {}\n",
    "for latitude, longitude, name, altitude, timezone in coordinates:\n",
    "    times = naive_times.tz_localize(timezone)\n",
    "    system['surface_tilt'] = latitude\n",
    "    pressure = pvlib.atmosphere.alt2pres(altitude)\n",
    "    solpos = pvlib.solarposition.get_solarposition(times, latitude, longitude)\n",
    "    airmass = pvlib.atmosphere.get_relative_airmass(solpos['apparent_zenith'])\n",
    "    am_abs = pvlib.atmosphere.get_absolute_airmass(airmass, pressure)\n",
    "    dni_extra = pvlib.irradiance.get_extra_radiation(times)\n",
    "    tl = pvlib.clearsky.lookup_linke_turbidity(times, latitude, longitude)\n",
    "    cs = pvlib.clearsky.ineichen(solpos['apparent_zenith'], am_abs, tl, dni_extra=dni_extra, altitude=altitude)\n",
    "    aoi = pvlib.irradiance.aoi(system['surface_tilt'], system['surface_azimuth'],solpos['apparent_zenith'], solpos['azimuth'])\n",
    "    total_irrad = pvlib.irradiance.get_total_irradiance(system['surface_tilt'], system['surface_azimuth'], solpos['apparent_zenith'],\n",
    "                                                        solpos['azimuth'], cs['dni'], cs['ghi'], cs['dhi'], dni_extra=dni_extra,\n",
    "                                                        model='haydavies')\n",
    "    temps = pvlib.pvsystem.sapm_celltemp(total_irrad['poa_global'], wind_speed, temp_air)\n",
    "    effective_irradiance = pvlib.pvsystem.sapm_effective_irradiance(total_irrad['poa_direct'], total_irrad['poa_diffuse'],am_abs, aoi, module)\n",
    "    dc = pvlib.pvsystem.sapm(effective_irradiance, temps['temp_cell'], module)\n",
    "    ac = pvlib.pvsystem.snlinverter(dc['v_mp'], dc['p_mp'], inverter)\n",
    "    annual_energy = ac.sum()\n",
    "    energies[name] = annual_energy\n",
    "    pvlib.pvsystem.snlinverter??"
   ]
  },
  {
   "cell_type": "code",
   "execution_count": 10,
   "metadata": {},
   "outputs": [
    {
     "name": "stdout",
     "output_type": "stream",
     "text": [
      "Comondú        458082.0\n",
      "Carbó          481579.0\n",
      "Tala           508552.0\n",
      "Francisco      484453.0\n",
      "Guadalcázar    515578.0\n",
      "Nuevo Leon     467513.0\n",
      "Lago           534918.0\n",
      "San            500712.0\n",
      "Acala          461927.0\n",
      "Acanceh        454365.0\n",
      "dtype: float64\n"
     ]
    }
   ],
   "source": [
    "energies = pd.Series(energies)\n",
    "print(energies.round(0))"
   ]
  },
  {
   "cell_type": "code",
   "execution_count": 31,
   "metadata": {},
   "outputs": [
    {
     "data": {
      "text/plain": [
       "Text(0,0.5,'Yearly energy yield (W hr)')"
      ]
     },
     "execution_count": 31,
     "metadata": {},
     "output_type": "execute_result"
    },
    {
     "data": {
      "image/png": "[encoded data removed]",
      "text/plain": [
       "<Figure size 432x288 with 1 Axes>"
      ]
     },
     "metadata": {},
     "output_type": "display_data"
    }
   ],
   "source": [
    "energies.plot(kind='bar', rot=0)\n",
    "plt.ylabel('Yearly energy yield (W hr)')"
   ]
  },
  {
   "cell_type": "code",
   "execution_count": 56,
   "metadata": {},
   "outputs": [],
   "source": [
    "# sLCOE = {(overnight capital cost * capital recovery factor + fixed O&M cost)/(8760 * capacity factor)} \n",
    "# + (fuel cost * heat rate) + variable O&M cost.\n",
    "\n",
    "# CRF = {i(1 + i)^n} / {[(1 + i)^n]-1}\n",
    "\n",
    "\n",
    "def slcoe_calculator_renewable(occ, i, n, fom, cf, fc, hr, vom):\n",
    "    \"\"\"\n",
    "    occ = Overnight capital cost ($/kW)\n",
    "    i = Interest/Discount rate (percentage)\n",
    "    n = Lifetime/Number of years\n",
    "    crf = Capital Recovery Factor\n",
    "    fom = Fixed O&M Cost ($/kW-yr)\n",
    "    cf = Capacity Factor (percentage)\n",
    "    fc = Fuel Cost (Btu/kWh)\n",
    "    hr = Heat Rate ($/MMBtu)\n",
    "    vom = Variable O&M Cost ($/kWh)\n",
    "    \"\"\"\n",
    "    \n",
    "    # converting all inputs to cents/kWh and percentages to fractions\n",
    "    occ = occ * 100\n",
    "    fom = fom * 100\n",
    "    vom = vom * 100\n",
    "    hr = hr * 100 / 1000000\n",
    "    i = i/100\n",
    "    cf = cf/100\n",
    "    crf = i*((1 + i)**n) / ((1 + i)**n - 1)\n",
    "    \n",
    "    return (occ * crf + fom)/(8760 * cf) + (fc * hr) + vom"
   ]
  },
  {
   "cell_type": "code",
   "execution_count": 58,
   "metadata": {},
   "outputs": [
    {
     "data": {
      "text/plain": [
       "15.084493865277983"
      ]
     },
     "execution_count": 58,
     "metadata": {},
     "output_type": "execute_result"
    }
   ],
   "source": [
    "lcoe_calculator_renewable(3540, 3, 20, 25, 43.6, 8, 10000, 0.002)"
   ]
  },
  {
   "cell_type": "code",
   "execution_count": 8,
   "metadata": {},
   "outputs": [
    {
     "data": {
      "text/plain": [
       "0    1.0\n",
       "1    4.0\n",
       "2    9.0\n",
       "dtype: float64"
      ]
     },
     "execution_count": 8,
     "metadata": {},
     "output_type": "execute_result"
    }
   ],
   "source": [
    "pd.Series(['1', '2', '3']).apply(float) * pd.Series(['1', '2', '3']).apply(float)"
   ]
  },
  {
   "cell_type": "code",
   "execution_count": null,
   "metadata": {},
   "outputs": [],
   "source": []
  }
 ],
 "metadata": {
  "kernelspec": {
   "display_name": "Python 3",
   "language": "python",
   "name": "python3"
  },
  "language_info": {
   "codemirror_mode": {
    "name": "ipython",
    "version": 3
   },
   "file_extension": ".py",
   "mimetype": "text/x-python",
   "name": "python",
   "nbconvert_exporter": "python",
   "pygments_lexer": "ipython3",
   "version": "3.6.5"
  }
 },
 "nbformat": 4,
 "nbformat_minor": 2
}
